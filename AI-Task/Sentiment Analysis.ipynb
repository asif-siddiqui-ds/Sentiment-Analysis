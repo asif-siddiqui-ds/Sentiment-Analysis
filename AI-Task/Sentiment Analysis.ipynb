{
 "cells": [
  {
   "cell_type": "code",
   "execution_count": 1,
   "id": "60b4aec0",
   "metadata": {},
   "outputs": [],
   "source": [
    "import pandas as pd\n",
    "from sklearn.model_selection import train_test_split\n",
    "import re\n",
    "import pandas as pd\n",
    "from nltk.corpus import stopwords\n",
    "from sklearn.feature_extraction.text import TfidfVectorizer\n",
    "from sklearn.feature_extraction.text import CountVectorizer\n",
    "from sklearn import naive_bayes\n",
    "from sklearn.ensemble import RandomForestClassifier\n",
    "from sklearn import svm\n",
    "from sklearn.linear_model import LogisticRegression\n",
    "from sklearn.metrics import roc_auc_score\n",
    "import numpy as np\n",
    "import re\n",
    "from bs4 import BeautifulSoup\n",
    "from scipy.sparse import hstack\n",
    "from gensim.models import Doc2Vec, Word2Vec\n",
    "from sklearn.feature_extraction.text import CountVectorizer\n",
    "import random"
   ]
  },
  {
   "cell_type": "code",
   "execution_count": 2,
   "id": "5ebf9e24",
   "metadata": {},
   "outputs": [],
   "source": [
    "import warnings\n",
    "warnings.filterwarnings('ignore')"
   ]
  },
  {
   "cell_type": "markdown",
   "id": "548d0cc4",
   "metadata": {},
   "source": [
    "## Data Exploration "
   ]
  },
  {
   "cell_type": "code",
   "execution_count": 3,
   "id": "e5d86446",
   "metadata": {},
   "outputs": [],
   "source": [
    "df = pd.read_excel('AI_Engineer_Dataset_Task_1.xlsx')"
   ]
  },
  {
   "cell_type": "code",
   "execution_count": 4,
   "id": "89595a09",
   "metadata": {
    "scrolled": true
   },
   "outputs": [
    {
     "name": "stdout",
     "output_type": "stream",
     "text": [
      "<class 'pandas.core.frame.DataFrame'>\n",
      "RangeIndex: 180969 entries, 0 to 180968\n",
      "Data columns (total 12 columns):\n",
      " #   Column               Non-Null Count   Dtype \n",
      "---  ------               --------------   ----- \n",
      " 0   AcademicYear         180969 non-null  int64 \n",
      " 1   SemesterName         180969 non-null  object\n",
      " 2   ParticipantID        180969 non-null  int64 \n",
      " 3   DegreeLevel          180969 non-null  object\n",
      " 4   Gender               180969 non-null  object\n",
      " 5   Nationality          180969 non-null  object\n",
      " 6   StudentProgram       180969 non-null  object\n",
      " 7   CourseCode           180969 non-null  object\n",
      " 8   CourseName           180969 non-null  object\n",
      " 9   QuestionText         180969 non-null  object\n",
      " 10  QuestionType         180969 non-null  object\n",
      " 11  ParticipantResponse  168848 non-null  object\n",
      "dtypes: int64(2), object(10)\n",
      "memory usage: 16.6+ MB\n"
     ]
    }
   ],
   "source": [
    "df.info()"
   ]
  },
  {
   "cell_type": "code",
   "execution_count": 5,
   "id": "70e59ccb",
   "metadata": {},
   "outputs": [
    {
     "data": {
      "text/plain": [
       "Strongly Agree                                                                                                                                        88689\n",
       "Agree                                                                                                                                                 33665\n",
       "Neutral                                                                                                                                               17639\n",
       "Strongly Disagree                                                                                                                                     17226\n",
       "Disagree                                                                                                                                               6391\n",
       "                                                                                                                                                      ...  \n",
       "No recommendations, very interesting and useful information for my major, and the best instructor                                                         1\n",
       "The course could have been more engaging.                                                                                                                 1\n",
       "We are lucky to have such a great professor like professor Salah he is really perfect professor                                                           1\n",
       "no nothing will be improve thank you                                                                                                                      1\n",
       "A great course for those who needs to learn how to be tolerant and diverse in specific areas. It will teach you a lot about the people around you.        1\n",
       "Name: ParticipantResponse, Length: 1890, dtype: int64"
      ]
     },
     "execution_count": 5,
     "metadata": {},
     "output_type": "execute_result"
    }
   ],
   "source": [
    "df.ParticipantResponse.value_counts()"
   ]
  },
  {
   "cell_type": "markdown",
   "id": "39fb9a1c",
   "metadata": {},
   "source": [
    "# Data Cleaning"
   ]
  },
  {
   "cell_type": "markdown",
   "id": "2dfd0635",
   "metadata": {},
   "source": [
    "Extracted rating info and User Comments from ParticipantResponse into seprate column of Rating and UserComments"
   ]
  },
  {
   "cell_type": "code",
   "execution_count": 6,
   "id": "16290833",
   "metadata": {},
   "outputs": [],
   "source": [
    "df['rating'] = df.apply(lambda x: x['ParticipantResponse'] if x['QuestionType']=='Rating' else 'NaN', axis=1)"
   ]
  },
  {
   "cell_type": "code",
   "execution_count": 7,
   "id": "dc1548aa",
   "metadata": {},
   "outputs": [],
   "source": [
    "df['UserComment'] = df.apply(lambda x: x['ParticipantResponse'] if x['QuestionType']=='User Comment' else 'NaN', axis=1)"
   ]
  },
  {
   "cell_type": "markdown",
   "id": "53e7e969",
   "metadata": {},
   "source": [
    "Making sure userComment column is string and lowercase "
   ]
  },
  {
   "cell_type": "code",
   "execution_count": 9,
   "id": "c53760d6",
   "metadata": {},
   "outputs": [],
   "source": [
    "df['UserComment'] = df['UserComment'].astype(str).str.lower()"
   ]
  },
  {
   "cell_type": "markdown",
   "id": "fb8e5449",
   "metadata": {},
   "source": [
    "Removing word \"no\" from the start of the sentence to avoid negative scoring"
   ]
  },
  {
   "cell_type": "code",
   "execution_count": 10,
   "id": "a30e8c81",
   "metadata": {},
   "outputs": [],
   "source": [
    "df['UserComment'] = df['UserComment'].str.replace(r'^(no,? )', '', regex=True)"
   ]
  },
  {
   "cell_type": "code",
   "execution_count": 42,
   "id": "04296d7f",
   "metadata": {},
   "outputs": [],
   "source": [
    "# Fill NaN values with empty strings\n",
    "df['ParticipantResponse'] = df['ParticipantResponse'].fillna('')"
   ]
  },
  {
   "cell_type": "markdown",
   "id": "b1138c34",
   "metadata": {},
   "source": [
    "## Method for Calculating Sentiment Score of Text in UserComment"
   ]
  },
  {
   "cell_type": "markdown",
   "id": "d45cbda4",
   "metadata": {},
   "source": [
    "Using VADER SentimentIntensityAnalyser which is one the Method to caculate sentiment score.\n",
    "\n",
    "In this method, we will use the Sentiment Intensity Analyser which uses the VADER Lexicon. VADER is a long-form for Valence Aware and sEntiment Reasoner, a rule-based sentiment analysis tool. VADER calculates text emotions and determines whether the text is positive, neutral or, negative. This analyzer calculates text sentiment and produces four different classes of output scores: positive, negative, neutral, and compound. A compound score is the aggregate of the score of a word, or precisely, the sum of all words in the lexicon, normalized between -1 and 1.\n"
   ]
  },
  {
   "cell_type": "markdown",
   "id": "5ef42e06",
   "metadata": {},
   "source": [
    "### Method Implementation"
   ]
  },
  {
   "cell_type": "markdown",
   "id": "9846d488",
   "metadata": {},
   "source": [
    "First, we will import the libraries. We will use the NLTK library for importing the SentimentIntensityAnalyzer."
   ]
  },
  {
   "cell_type": "code",
   "execution_count": 11,
   "id": "62549be6",
   "metadata": {},
   "outputs": [],
   "source": [
    "from nltk.sentiment.vader import SentimentIntensityAnalyzer"
   ]
  },
  {
   "cell_type": "code",
   "execution_count": 12,
   "id": "8596804b",
   "metadata": {},
   "outputs": [
    {
     "name": "stderr",
     "output_type": "stream",
     "text": [
      "[nltk_data] Downloading package vader_lexicon to\n",
      "[nltk_data]     C:\\Users\\asifs\\AppData\\Roaming\\nltk_data...\n",
      "[nltk_data]   Package vader_lexicon is already up-to-date!\n"
     ]
    },
    {
     "data": {
      "text/plain": [
       "True"
      ]
     },
     "execution_count": 12,
     "metadata": {},
     "output_type": "execute_result"
    }
   ],
   "source": [
    "import nltk\n",
    "nltk.download('vader_lexicon')"
   ]
  },
  {
   "cell_type": "markdown",
   "id": "e2edf800",
   "metadata": {},
   "source": [
    "Next, we will create the instance of SentimentIntensityAnalyzer."
   ]
  },
  {
   "cell_type": "code",
   "execution_count": 13,
   "id": "b9cf91f5",
   "metadata": {},
   "outputs": [],
   "source": [
    "sent = SentimentIntensityAnalyzer()"
   ]
  },
  {
   "cell_type": "markdown",
   "id": "129391e0",
   "metadata": {},
   "source": [
    "Finally, we will calculate the Compound Poalrtity Score and add it into the Main DataFrame for each of the UserComment."
   ]
  },
  {
   "cell_type": "markdown",
   "id": "8863c560",
   "metadata": {},
   "source": [
    "Note: Assigning unique score value of 2 to all userComment with word \"no\" to avoid negative scoring and this score will be used for Neutral sentiment determination at later stage."
   ]
  },
  {
   "cell_type": "code",
   "execution_count": 14,
   "id": "84d6de2c",
   "metadata": {},
   "outputs": [],
   "source": [
    "polarity = []\n",
    "for i in df['UserComment']:\n",
    "    if i == \"no\":\n",
    "        polarity.append(2.0)\n",
    "    else:\n",
    "        polarity.append(round(sent.polarity_scores(i)['compound'], 2))   "
   ]
  },
  {
   "cell_type": "code",
   "execution_count": 15,
   "id": "3e2f848a",
   "metadata": {},
   "outputs": [],
   "source": [
    "#add sentiment_score to the dataframe\n",
    "df['sentiment_score'] = polarity"
   ]
  },
  {
   "cell_type": "code",
   "execution_count": 16,
   "id": "f450afc6",
   "metadata": {},
   "outputs": [
    {
     "data": {
      "text/html": [
       "<div>\n",
       "<style scoped>\n",
       "    .dataframe tbody tr th:only-of-type {\n",
       "        vertical-align: middle;\n",
       "    }\n",
       "\n",
       "    .dataframe tbody tr th {\n",
       "        vertical-align: top;\n",
       "    }\n",
       "\n",
       "    .dataframe thead th {\n",
       "        text-align: right;\n",
       "    }\n",
       "</style>\n",
       "<table border=\"1\" class=\"dataframe\">\n",
       "  <thead>\n",
       "    <tr style=\"text-align: right;\">\n",
       "      <th></th>\n",
       "      <th>UserComment</th>\n",
       "      <th>sentiment_score</th>\n",
       "    </tr>\n",
       "  </thead>\n",
       "  <tbody>\n",
       "    <tr>\n",
       "      <th>1438</th>\n",
       "      <td>in a way the prof was so strict and following ...</td>\n",
       "      <td>-0.83</td>\n",
       "    </tr>\n",
       "    <tr>\n",
       "      <th>1565</th>\n",
       "      <td>very very hard course</td>\n",
       "      <td>-0.24</td>\n",
       "    </tr>\n",
       "    <tr>\n",
       "      <th>1733</th>\n",
       "      <td>stop teaching at the level of a master. and ma...</td>\n",
       "      <td>-0.30</td>\n",
       "    </tr>\n",
       "    <tr>\n",
       "      <th>1777</th>\n",
       "      <td>he doesn't explain well</td>\n",
       "      <td>-0.21</td>\n",
       "    </tr>\n",
       "    <tr>\n",
       "      <th>2635</th>\n",
       "      <td>nothing all good</td>\n",
       "      <td>-0.34</td>\n",
       "    </tr>\n",
       "    <tr>\n",
       "      <th>...</th>\n",
       "      <td>...</td>\n",
       "      <td>...</td>\n",
       "    </tr>\n",
       "    <tr>\n",
       "      <th>173838</th>\n",
       "      <td>the chairs and tables in the rows are uncomfor...</td>\n",
       "      <td>-0.38</td>\n",
       "    </tr>\n",
       "    <tr>\n",
       "      <th>175998</th>\n",
       "      <td>i have a point on the instructor that in the v...</td>\n",
       "      <td>-0.16</td>\n",
       "    </tr>\n",
       "    <tr>\n",
       "      <th>176382</th>\n",
       "      <td>the chairs and tables in the rows are uncomfor...</td>\n",
       "      <td>-0.38</td>\n",
       "    </tr>\n",
       "    <tr>\n",
       "      <th>177630</th>\n",
       "      <td>the dr are dependent on youtu.be and many fram...</td>\n",
       "      <td>-0.10</td>\n",
       "    </tr>\n",
       "    <tr>\n",
       "      <th>179833</th>\n",
       "      <td>the couse timing is very long what makes us bo...</td>\n",
       "      <td>-0.27</td>\n",
       "    </tr>\n",
       "  </tbody>\n",
       "</table>\n",
       "<p>121 rows × 2 columns</p>\n",
       "</div>"
      ],
      "text/plain": [
       "                                              UserComment  sentiment_score\n",
       "1438    in a way the prof was so strict and following ...            -0.83\n",
       "1565                                very very hard course            -0.24\n",
       "1733    stop teaching at the level of a master. and ma...            -0.30\n",
       "1777                              he doesn't explain well            -0.21\n",
       "2635                                     nothing all good            -0.34\n",
       "...                                                   ...              ...\n",
       "173838  the chairs and tables in the rows are uncomfor...            -0.38\n",
       "175998  i have a point on the instructor that in the v...            -0.16\n",
       "176382  the chairs and tables in the rows are uncomfor...            -0.38\n",
       "177630  the dr are dependent on youtu.be and many fram...            -0.10\n",
       "179833  the couse timing is very long what makes us bo...            -0.27\n",
       "\n",
       "[121 rows x 2 columns]"
      ]
     },
     "execution_count": 16,
     "metadata": {},
     "output_type": "execute_result"
    }
   ],
   "source": [
    "#checking negative score for negative comments\n",
    "df.loc[df['sentiment_score'] < 0, ['UserComment', 'sentiment_score']]"
   ]
  },
  {
   "cell_type": "code",
   "execution_count": 17,
   "id": "942588bd",
   "metadata": {},
   "outputs": [
    {
     "data": {
      "text/plain": [
       "Strongly Agree       88689\n",
       "Agree                33664\n",
       "Neutral              17623\n",
       "NaN                  17344\n",
       "Strongly Disagree    17226\n",
       "Disagree              6391\n",
       "Good                    32\n",
       "Name: rating, dtype: int64"
      ]
     },
     "execution_count": 17,
     "metadata": {},
     "output_type": "execute_result"
    }
   ],
   "source": [
    "df['rating'].value_counts()"
   ]
  },
  {
   "cell_type": "code",
   "execution_count": 77,
   "id": "a676e296",
   "metadata": {},
   "outputs": [],
   "source": [
    "#setting conditions based on sentiment score and rating for overall sentiment determination\n",
    "conditions = [\n",
    "    ((df['sentiment_score'] < 0.0) | (df['rating'].isin(['Disagree', 'Strongly Disagree']))),\n",
    "    ((df['sentiment_score'] > 0.0) | (df['rating'].isin(['Agree', 'Strongly Agree', 'Good']))),\n",
    "    ((df['sentiment_score'] == 2.0) | (df['rating'] == 'Neutral'))\n",
    "]"
   ]
  },
  {
   "cell_type": "code",
   "execution_count": 78,
   "id": "9cdb0b96",
   "metadata": {},
   "outputs": [],
   "source": [
    "sentiments = ['negative', 'positive', 'neutral']"
   ]
  },
  {
   "cell_type": "code",
   "execution_count": 79,
   "id": "372e3443",
   "metadata": {},
   "outputs": [],
   "source": [
    "#applying conditions to dataframe\n",
    "df['overall_sentiment'] = np.select(conditions, sentiments)"
   ]
  },
  {
   "cell_type": "code",
   "execution_count": 80,
   "id": "20e51666",
   "metadata": {},
   "outputs": [
    {
     "data": {
      "text/html": [
       "<div>\n",
       "<style scoped>\n",
       "    .dataframe tbody tr th:only-of-type {\n",
       "        vertical-align: middle;\n",
       "    }\n",
       "\n",
       "    .dataframe tbody tr th {\n",
       "        vertical-align: top;\n",
       "    }\n",
       "\n",
       "    .dataframe thead th {\n",
       "        text-align: right;\n",
       "    }\n",
       "</style>\n",
       "<table border=\"1\" class=\"dataframe\">\n",
       "  <thead>\n",
       "    <tr style=\"text-align: right;\">\n",
       "      <th></th>\n",
       "      <th>AcademicYear</th>\n",
       "      <th>SemesterName</th>\n",
       "      <th>ParticipantID</th>\n",
       "      <th>DegreeLevel</th>\n",
       "      <th>Gender</th>\n",
       "      <th>Nationality</th>\n",
       "      <th>StudentProgram</th>\n",
       "      <th>CourseCode</th>\n",
       "      <th>CourseName</th>\n",
       "      <th>QuestionText</th>\n",
       "      <th>QuestionType</th>\n",
       "      <th>ParticipantResponse</th>\n",
       "      <th>rating</th>\n",
       "      <th>UserComment</th>\n",
       "      <th>id</th>\n",
       "      <th>sentiment_score</th>\n",
       "      <th>overall_sentiment</th>\n",
       "      <th>Topic</th>\n",
       "    </tr>\n",
       "  </thead>\n",
       "  <tbody>\n",
       "    <tr>\n",
       "      <th>0</th>\n",
       "      <td>2021</td>\n",
       "      <td>Fall 2021 - 2022</td>\n",
       "      <td>7040336900</td>\n",
       "      <td>Bachelor</td>\n",
       "      <td>Female</td>\n",
       "      <td>Palestine</td>\n",
       "      <td>Bachelor of Business Administration</td>\n",
       "      <td>ACC 100</td>\n",
       "      <td>Principles of Accounting</td>\n",
       "      <td>CLO : Evaluate financial and managerial accoun...</td>\n",
       "      <td>Rating</td>\n",
       "      <td>Disagree</td>\n",
       "      <td>Disagree</td>\n",
       "      <td>nan</td>\n",
       "      <td>1</td>\n",
       "      <td>0.0</td>\n",
       "      <td>negative</td>\n",
       "      <td>1</td>\n",
       "    </tr>\n",
       "    <tr>\n",
       "      <th>1</th>\n",
       "      <td>2021</td>\n",
       "      <td>Fall 2021 - 2022</td>\n",
       "      <td>6707335167</td>\n",
       "      <td>Bachelor</td>\n",
       "      <td>Male</td>\n",
       "      <td>United Arab Emirates</td>\n",
       "      <td>Bachelor of Business Administration</td>\n",
       "      <td>ACC 100</td>\n",
       "      <td>Principles of Accounting</td>\n",
       "      <td>The coursework and assignments are challenging</td>\n",
       "      <td>Rating</td>\n",
       "      <td>Strongly Disagree</td>\n",
       "      <td>Strongly Disagree</td>\n",
       "      <td>nan</td>\n",
       "      <td>2</td>\n",
       "      <td>0.0</td>\n",
       "      <td>negative</td>\n",
       "      <td>1</td>\n",
       "    </tr>\n",
       "    <tr>\n",
       "      <th>2</th>\n",
       "      <td>2021</td>\n",
       "      <td>Fall 2021 - 2022</td>\n",
       "      <td>6707335167</td>\n",
       "      <td>Bachelor</td>\n",
       "      <td>Male</td>\n",
       "      <td>United Arab Emirates</td>\n",
       "      <td>Bachelor of Business Administration</td>\n",
       "      <td>ACC 100</td>\n",
       "      <td>Principles of Accounting</td>\n",
       "      <td>The course is relevant to my program of study</td>\n",
       "      <td>Rating</td>\n",
       "      <td>Strongly Disagree</td>\n",
       "      <td>Strongly Disagree</td>\n",
       "      <td>nan</td>\n",
       "      <td>3</td>\n",
       "      <td>0.0</td>\n",
       "      <td>negative</td>\n",
       "      <td>1</td>\n",
       "    </tr>\n",
       "    <tr>\n",
       "      <th>3</th>\n",
       "      <td>2021</td>\n",
       "      <td>Fall 2021 - 2022</td>\n",
       "      <td>6707335167</td>\n",
       "      <td>Bachelor</td>\n",
       "      <td>Male</td>\n",
       "      <td>United Arab Emirates</td>\n",
       "      <td>Bachelor of Business Administration</td>\n",
       "      <td>ACC 100</td>\n",
       "      <td>Principles of Accounting</td>\n",
       "      <td>Course learning materials are available on the...</td>\n",
       "      <td>Rating</td>\n",
       "      <td>Strongly Disagree</td>\n",
       "      <td>Strongly Disagree</td>\n",
       "      <td>nan</td>\n",
       "      <td>4</td>\n",
       "      <td>0.0</td>\n",
       "      <td>negative</td>\n",
       "      <td>1</td>\n",
       "    </tr>\n",
       "    <tr>\n",
       "      <th>4</th>\n",
       "      <td>2021</td>\n",
       "      <td>Fall 2021 - 2022</td>\n",
       "      <td>6707335167</td>\n",
       "      <td>Bachelor</td>\n",
       "      <td>Male</td>\n",
       "      <td>United Arab Emirates</td>\n",
       "      <td>Bachelor of Business Administration</td>\n",
       "      <td>ACC 100</td>\n",
       "      <td>Principles of Accounting</td>\n",
       "      <td>The faculty uses additional resources (other t...</td>\n",
       "      <td>Rating</td>\n",
       "      <td>Strongly Disagree</td>\n",
       "      <td>Strongly Disagree</td>\n",
       "      <td>nan</td>\n",
       "      <td>5</td>\n",
       "      <td>0.0</td>\n",
       "      <td>negative</td>\n",
       "      <td>1</td>\n",
       "    </tr>\n",
       "    <tr>\n",
       "      <th>...</th>\n",
       "      <td>...</td>\n",
       "      <td>...</td>\n",
       "      <td>...</td>\n",
       "      <td>...</td>\n",
       "      <td>...</td>\n",
       "      <td>...</td>\n",
       "      <td>...</td>\n",
       "      <td>...</td>\n",
       "      <td>...</td>\n",
       "      <td>...</td>\n",
       "      <td>...</td>\n",
       "      <td>...</td>\n",
       "      <td>...</td>\n",
       "      <td>...</td>\n",
       "      <td>...</td>\n",
       "      <td>...</td>\n",
       "      <td>...</td>\n",
       "      <td>...</td>\n",
       "    </tr>\n",
       "    <tr>\n",
       "      <th>180964</th>\n",
       "      <td>2021</td>\n",
       "      <td>Spring 2021 - 2022</td>\n",
       "      <td>7040334533</td>\n",
       "      <td>Bachelor</td>\n",
       "      <td>Male</td>\n",
       "      <td>India</td>\n",
       "      <td>Bachelor of Business Administration</td>\n",
       "      <td>TOL 200</td>\n",
       "      <td>Tolerance and Diversity</td>\n",
       "      <td>Do you have any recommendations or suggestions...</td>\n",
       "      <td>User Comment</td>\n",
       "      <td></td>\n",
       "      <td>NaN</td>\n",
       "      <td>nan</td>\n",
       "      <td>180965</td>\n",
       "      <td>0.0</td>\n",
       "      <td>0</td>\n",
       "      <td>0</td>\n",
       "    </tr>\n",
       "    <tr>\n",
       "      <th>180965</th>\n",
       "      <td>2021</td>\n",
       "      <td>Spring 2021 - 2022</td>\n",
       "      <td>6724000467</td>\n",
       "      <td>Bachelor</td>\n",
       "      <td>Male</td>\n",
       "      <td>United Arab Emirates</td>\n",
       "      <td>Bachelor of Arts in Security and Strategic Stu...</td>\n",
       "      <td>TOL 200</td>\n",
       "      <td>Tolerance and Diversity</td>\n",
       "      <td>CLO : analyze the relationship between diversi...</td>\n",
       "      <td>Rating</td>\n",
       "      <td>Agree</td>\n",
       "      <td>Agree</td>\n",
       "      <td>nan</td>\n",
       "      <td>180966</td>\n",
       "      <td>0.0</td>\n",
       "      <td>positive</td>\n",
       "      <td>4</td>\n",
       "    </tr>\n",
       "    <tr>\n",
       "      <th>180966</th>\n",
       "      <td>2022</td>\n",
       "      <td>Fall 2022 - 2023</td>\n",
       "      <td>6373669933</td>\n",
       "      <td>Bachelor</td>\n",
       "      <td>Male</td>\n",
       "      <td>United Kingdom</td>\n",
       "      <td>Bachelor of Business Administration</td>\n",
       "      <td>TOL 200</td>\n",
       "      <td>Tolerance and Diversity</td>\n",
       "      <td>The faculty discussed the course syllabus at t...</td>\n",
       "      <td>Rating</td>\n",
       "      <td>Strongly Agree</td>\n",
       "      <td>Strongly Agree</td>\n",
       "      <td>nan</td>\n",
       "      <td>180967</td>\n",
       "      <td>0.0</td>\n",
       "      <td>positive</td>\n",
       "      <td>4</td>\n",
       "    </tr>\n",
       "    <tr>\n",
       "      <th>180967</th>\n",
       "      <td>2022</td>\n",
       "      <td>Fall 2022 - 2023</td>\n",
       "      <td>6373669933</td>\n",
       "      <td>Bachelor</td>\n",
       "      <td>Male</td>\n",
       "      <td>United Kingdom</td>\n",
       "      <td>Bachelor of Business Administration</td>\n",
       "      <td>TOL 200</td>\n",
       "      <td>Tolerance and Diversity</td>\n",
       "      <td>The coursework and assignments are challenging</td>\n",
       "      <td>Rating</td>\n",
       "      <td>Strongly Agree</td>\n",
       "      <td>Strongly Agree</td>\n",
       "      <td>nan</td>\n",
       "      <td>180968</td>\n",
       "      <td>0.0</td>\n",
       "      <td>positive</td>\n",
       "      <td>4</td>\n",
       "    </tr>\n",
       "    <tr>\n",
       "      <th>180968</th>\n",
       "      <td>2022</td>\n",
       "      <td>Fall 2022 - 2023</td>\n",
       "      <td>6373669933</td>\n",
       "      <td>Bachelor</td>\n",
       "      <td>Male</td>\n",
       "      <td>United Kingdom</td>\n",
       "      <td>Bachelor of Business Administration</td>\n",
       "      <td>TOL 200</td>\n",
       "      <td>Tolerance and Diversity</td>\n",
       "      <td>The course is relevant to my program of study</td>\n",
       "      <td>Rating</td>\n",
       "      <td>Strongly Agree</td>\n",
       "      <td>Strongly Agree</td>\n",
       "      <td>nan</td>\n",
       "      <td>180969</td>\n",
       "      <td>0.0</td>\n",
       "      <td>positive</td>\n",
       "      <td>4</td>\n",
       "    </tr>\n",
       "  </tbody>\n",
       "</table>\n",
       "<p>180969 rows × 18 columns</p>\n",
       "</div>"
      ],
      "text/plain": [
       "        AcademicYear        SemesterName  ParticipantID DegreeLevel  Gender  \\\n",
       "0               2021    Fall 2021 - 2022     7040336900    Bachelor  Female   \n",
       "1               2021    Fall 2021 - 2022     6707335167    Bachelor    Male   \n",
       "2               2021    Fall 2021 - 2022     6707335167    Bachelor    Male   \n",
       "3               2021    Fall 2021 - 2022     6707335167    Bachelor    Male   \n",
       "4               2021    Fall 2021 - 2022     6707335167    Bachelor    Male   \n",
       "...              ...                 ...            ...         ...     ...   \n",
       "180964          2021  Spring 2021 - 2022     7040334533    Bachelor    Male   \n",
       "180965          2021  Spring 2021 - 2022     6724000467    Bachelor    Male   \n",
       "180966          2022    Fall 2022 - 2023     6373669933    Bachelor    Male   \n",
       "180967          2022    Fall 2022 - 2023     6373669933    Bachelor    Male   \n",
       "180968          2022    Fall 2022 - 2023     6373669933    Bachelor    Male   \n",
       "\n",
       "                 Nationality  \\\n",
       "0                  Palestine   \n",
       "1       United Arab Emirates   \n",
       "2       United Arab Emirates   \n",
       "3       United Arab Emirates   \n",
       "4       United Arab Emirates   \n",
       "...                      ...   \n",
       "180964                 India   \n",
       "180965  United Arab Emirates   \n",
       "180966        United Kingdom   \n",
       "180967        United Kingdom   \n",
       "180968        United Kingdom   \n",
       "\n",
       "                                           StudentProgram CourseCode  \\\n",
       "0                     Bachelor of Business Administration    ACC 100   \n",
       "1                     Bachelor of Business Administration    ACC 100   \n",
       "2                     Bachelor of Business Administration    ACC 100   \n",
       "3                     Bachelor of Business Administration    ACC 100   \n",
       "4                     Bachelor of Business Administration    ACC 100   \n",
       "...                                                   ...        ...   \n",
       "180964                Bachelor of Business Administration    TOL 200   \n",
       "180965  Bachelor of Arts in Security and Strategic Stu...    TOL 200   \n",
       "180966                Bachelor of Business Administration    TOL 200   \n",
       "180967                Bachelor of Business Administration    TOL 200   \n",
       "180968                Bachelor of Business Administration    TOL 200   \n",
       "\n",
       "                      CourseName  \\\n",
       "0       Principles of Accounting   \n",
       "1       Principles of Accounting   \n",
       "2       Principles of Accounting   \n",
       "3       Principles of Accounting   \n",
       "4       Principles of Accounting   \n",
       "...                          ...   \n",
       "180964   Tolerance and Diversity   \n",
       "180965   Tolerance and Diversity   \n",
       "180966   Tolerance and Diversity   \n",
       "180967   Tolerance and Diversity   \n",
       "180968   Tolerance and Diversity   \n",
       "\n",
       "                                             QuestionText  QuestionType  \\\n",
       "0       CLO : Evaluate financial and managerial accoun...        Rating   \n",
       "1          The coursework and assignments are challenging        Rating   \n",
       "2           The course is relevant to my program of study        Rating   \n",
       "3       Course learning materials are available on the...        Rating   \n",
       "4       The faculty uses additional resources (other t...        Rating   \n",
       "...                                                   ...           ...   \n",
       "180964  Do you have any recommendations or suggestions...  User Comment   \n",
       "180965  CLO : analyze the relationship between diversi...        Rating   \n",
       "180966  The faculty discussed the course syllabus at t...        Rating   \n",
       "180967     The coursework and assignments are challenging        Rating   \n",
       "180968      The course is relevant to my program of study        Rating   \n",
       "\n",
       "       ParticipantResponse             rating UserComment      id  \\\n",
       "0                 Disagree           Disagree         nan       1   \n",
       "1        Strongly Disagree  Strongly Disagree         nan       2   \n",
       "2        Strongly Disagree  Strongly Disagree         nan       3   \n",
       "3        Strongly Disagree  Strongly Disagree         nan       4   \n",
       "4        Strongly Disagree  Strongly Disagree         nan       5   \n",
       "...                    ...                ...         ...     ...   \n",
       "180964                                    NaN         nan  180965   \n",
       "180965               Agree              Agree         nan  180966   \n",
       "180966      Strongly Agree     Strongly Agree         nan  180967   \n",
       "180967      Strongly Agree     Strongly Agree         nan  180968   \n",
       "180968      Strongly Agree     Strongly Agree         nan  180969   \n",
       "\n",
       "        sentiment_score overall_sentiment  Topic  \n",
       "0                   0.0          negative      1  \n",
       "1                   0.0          negative      1  \n",
       "2                   0.0          negative      1  \n",
       "3                   0.0          negative      1  \n",
       "4                   0.0          negative      1  \n",
       "...                 ...               ...    ...  \n",
       "180964              0.0                 0      0  \n",
       "180965              0.0          positive      4  \n",
       "180966              0.0          positive      4  \n",
       "180967              0.0          positive      4  \n",
       "180968              0.0          positive      4  \n",
       "\n",
       "[180969 rows x 18 columns]"
      ]
     },
     "execution_count": 80,
     "metadata": {},
     "output_type": "execute_result"
    }
   ],
   "source": [
    "df"
   ]
  },
  {
   "cell_type": "code",
   "execution_count": 146,
   "id": "4e3cf3af",
   "metadata": {},
   "outputs": [
    {
     "data": {
      "text/plain": [
       "8.203614983781753"
      ]
     },
     "execution_count": 146,
     "metadata": {},
     "output_type": "execute_result"
    }
   ],
   "source": [
    "14846/len(df['ParticipantResponse'])*100"
   ]
  },
  {
   "cell_type": "markdown",
   "id": "b588e266",
   "metadata": {},
   "source": [
    "we use bar plot to compare the total number of each type of sentiments "
   ]
  },
  {
   "cell_type": "code",
   "execution_count": 116,
   "id": "fbb10b0e",
   "metadata": {},
   "outputs": [],
   "source": [
    "sentiments_count = df.groupby('overall_sentiment').size().reset_index(name='Count')"
   ]
  },
  {
   "cell_type": "code",
   "execution_count": 133,
   "id": "67bf3aa2",
   "metadata": {},
   "outputs": [
    {
     "data": {
      "text/plain": [
       "<seaborn.axisgrid.FacetGrid at 0x1ffb6881a10>"
      ]
     },
     "execution_count": 133,
     "metadata": {},
     "output_type": "execute_result"
    },
    {
     "data": {
      "image/png": "[encoded data removed]",
      "text/plain": [
       "<Figure size 750x500 with 1 Axes>"
      ]
     },
     "metadata": {},
     "output_type": "display_data"
    }
   ],
   "source": [
    "import seaborn as sns\n",
    "\n",
    "cols = {'0': 'black', 'negative': 'red', 'positive': 'blue', 'neutral': 'purple'}\n",
    "\n",
    "ax = sns.catplot(kind=\"count\",\n",
    "            data=df,\n",
    "            x=\"overall_sentiment\",\n",
    "            order = [\"0\", \"negative\", \"positive\", \"neutral\"],\n",
    "            height=5,\n",
    "            aspect=1.5,\n",
    "            palette = cols,\n",
    "            errorbar=None)\n",
    "                #  color = cols);\n",
    "g = ax.facet_axis(0,0)\n",
    "for p in g.patches:\n",
    "    g.annotate(format(p.get_height(), '.1f'),\n",
    "                   (p.get_x() + p.get_width() / 2., p.get_height()),\n",
    "                   ha = 'center', va = 'center',\n",
    "                   xytext = (0, 9),\n",
    "                   textcoords = 'offset points')\n",
    "ax.set(xlabel = 'Discount Types', ylabel = 'Percentage of Total Orders')"
   ]
  },
  {
   "cell_type": "markdown",
   "id": "7cdee08a",
   "metadata": {},
   "source": [
    "We define years and performance values for each type of sentiments.\n",
    "We use Matplotlib to create the line chart, plotting count of each sentiment's over the years.\n",
    "We add labels for the x-axis and y-axis, a title for the chart, and a legend to distinguish the categories.\n",
    "Finally, we display the plot using plt.show()."
   ]
  },
  {
   "cell_type": "code",
   "execution_count": 81,
   "id": "c07e832e",
   "metadata": {},
   "outputs": [],
   "source": [
    "result = df.groupby(['AcademicYear', 'overall_sentiment']).size().reset_index(name='Count')"
   ]
  },
  {
   "cell_type": "code",
   "execution_count": 82,
   "id": "f0aea3b2",
   "metadata": {},
   "outputs": [
    {
     "data": {
      "image/png": "[encoded data removed]",
      "text/plain": [
       "<Figure size 1000x600 with 1 Axes>"
      ]
     },
     "metadata": {},
     "output_type": "display_data"
    }
   ],
   "source": [
    "# Pivot the table to have categories as columns\n",
    "pivot_table = result.pivot(index='AcademicYear', columns='overall_sentiment', values='Count')\n",
    "\n",
    "# Plot a line graph for each category\n",
    "import matplotlib.pyplot as plt\n",
    "pivot_table.plot(kind='line', marker='o', figsize=(10, 6))\n",
    "plt.title('Sentiments Over the Years')\n",
    "plt.xlabel('Year')\n",
    "plt.ylabel('Count')\n",
    "plt.grid(True)\n",
    "plt.legend(title='sentiments')\n",
    "plt.show()"
   ]
  },
  {
   "cell_type": "markdown",
   "id": "7e708ad6",
   "metadata": {},
   "source": [
    "# Latent Dirichlet Allocation (LDA)"
   ]
  },
  {
   "cell_type": "markdown",
   "id": "3b1def03",
   "metadata": {},
   "source": [
    "Latent Dirichlet Allocation (LDA) is used as a modelling technique that can classify text in a document to a particular topic. It uses Dirichlet distribution to find topics for each document model and words for each topic model."
   ]
  },
  {
   "cell_type": "markdown",
   "id": "c16e565f",
   "metadata": {},
   "source": [
    "### Implementation"
   ]
  },
  {
   "cell_type": "code",
   "execution_count": 43,
   "id": "4e0e2862",
   "metadata": {},
   "outputs": [],
   "source": [
    "from sklearn.feature_extraction.text import CountVectorizer\n",
    "cv = CountVectorizer(max_df=0.95, min_df=2, stop_words='english')\n",
    "dtm = cv.fit_transform(df['ParticipantResponse'])"
   ]
  },
  {
   "cell_type": "markdown",
   "id": "0cfd8003",
   "metadata": {},
   "source": [
    "### LDA Model"
   ]
  },
  {
   "cell_type": "code",
   "execution_count": 44,
   "id": "44b00021",
   "metadata": {},
   "outputs": [
    {
     "data": {
      "text/html": [
       "<style>#sk-container-id-2 {color: black;}#sk-container-id-2 pre{padding: 0;}#sk-container-id-2 div.sk-toggleable {background-color: white;}#sk-container-id-2 label.sk-toggleable__label {cursor: pointer;display: block;width: 100%;margin-bottom: 0;padding: 0.3em;box-sizing: border-box;text-align: center;}#sk-container-id-2 label.sk-toggleable__label-arrow:before {content: \"▸\";float: left;margin-right: 0.25em;color: #696969;}#sk-container-id-2 label.sk-toggleable__label-arrow:hover:before {color: black;}#sk-container-id-2 div.sk-estimator:hover label.sk-toggleable__label-arrow:before {color: black;}#sk-container-id-2 div.sk-toggleable__content {max-height: 0;max-width: 0;overflow: hidden;text-align: left;background-color: #f0f8ff;}#sk-container-id-2 div.sk-toggleable__content pre {margin: 0.2em;color: black;border-radius: 0.25em;background-color: #f0f8ff;}#sk-container-id-2 input.sk-toggleable__control:checked~div.sk-toggleable__content {max-height: 200px;max-width: 100%;overflow: auto;}#sk-container-id-2 input.sk-toggleable__control:checked~label.sk-toggleable__label-arrow:before {content: \"▾\";}#sk-container-id-2 div.sk-estimator input.sk-toggleable__control:checked~label.sk-toggleable__label {background-color: #d4ebff;}#sk-container-id-2 div.sk-label input.sk-toggleable__control:checked~label.sk-toggleable__label {background-color: #d4ebff;}#sk-container-id-2 input.sk-hidden--visually {border: 0;clip: rect(1px 1px 1px 1px);clip: rect(1px, 1px, 1px, 1px);height: 1px;margin: -1px;overflow: hidden;padding: 0;position: absolute;width: 1px;}#sk-container-id-2 div.sk-estimator {font-family: monospace;background-color: #f0f8ff;border: 1px dotted black;border-radius: 0.25em;box-sizing: border-box;margin-bottom: 0.5em;}#sk-container-id-2 div.sk-estimator:hover {background-color: #d4ebff;}#sk-container-id-2 div.sk-parallel-item::after {content: \"\";width: 100%;border-bottom: 1px solid gray;flex-grow: 1;}#sk-container-id-2 div.sk-label:hover label.sk-toggleable__label {background-color: #d4ebff;}#sk-container-id-2 div.sk-serial::before {content: \"\";position: absolute;border-left: 1px solid gray;box-sizing: border-box;top: 0;bottom: 0;left: 50%;z-index: 0;}#sk-container-id-2 div.sk-serial {display: flex;flex-direction: column;align-items: center;background-color: white;padding-right: 0.2em;padding-left: 0.2em;position: relative;}#sk-container-id-2 div.sk-item {position: relative;z-index: 1;}#sk-container-id-2 div.sk-parallel {display: flex;align-items: stretch;justify-content: center;background-color: white;position: relative;}#sk-container-id-2 div.sk-item::before, #sk-container-id-2 div.sk-parallel-item::before {content: \"\";position: absolute;border-left: 1px solid gray;box-sizing: border-box;top: 0;bottom: 0;left: 50%;z-index: -1;}#sk-container-id-2 div.sk-parallel-item {display: flex;flex-direction: column;z-index: 1;position: relative;background-color: white;}#sk-container-id-2 div.sk-parallel-item:first-child::after {align-self: flex-end;width: 50%;}#sk-container-id-2 div.sk-parallel-item:last-child::after {align-self: flex-start;width: 50%;}#sk-container-id-2 div.sk-parallel-item:only-child::after {width: 0;}#sk-container-id-2 div.sk-dashed-wrapped {border: 1px dashed gray;margin: 0 0.4em 0.5em 0.4em;box-sizing: border-box;padding-bottom: 0.4em;background-color: white;}#sk-container-id-2 div.sk-label label {font-family: monospace;font-weight: bold;display: inline-block;line-height: 1.2em;}#sk-container-id-2 div.sk-label-container {text-align: center;}#sk-container-id-2 div.sk-container {/* jupyter's `normalize.less` sets `[hidden] { display: none; }` but bootstrap.min.css set `[hidden] { display: none !important; }` so we also need the `!important` here to be able to override the default hidden behavior on the sphinx rendered scikit-learn.org. See: https://github.com/scikit-learn/scikit-learn/issues/21755 */display: inline-block !important;position: relative;}#sk-container-id-2 div.sk-text-repr-fallback {display: none;}</style><div id=\"sk-container-id-2\" class=\"sk-top-container\"><div class=\"sk-text-repr-fallback\"><pre>LatentDirichletAllocation(n_components=7, random_state=42)</pre><b>In a Jupyter environment, please rerun this cell to show the HTML representation or trust the notebook. <br />On GitHub, the HTML representation is unable to render, please try loading this page with nbviewer.org.</b></div><div class=\"sk-container\" hidden><div class=\"sk-item\"><div class=\"sk-estimator sk-toggleable\"><input class=\"sk-toggleable__control sk-hidden--visually\" id=\"sk-estimator-id-2\" type=\"checkbox\" checked><label for=\"sk-estimator-id-2\" class=\"sk-toggleable__label sk-toggleable__label-arrow\">LatentDirichletAllocation</label><div class=\"sk-toggleable__content\"><pre>LatentDirichletAllocation(n_components=7, random_state=42)</pre></div></div></div></div></div>"
      ],
      "text/plain": [
       "LatentDirichletAllocation(n_components=7, random_state=42)"
      ]
     },
     "execution_count": 44,
     "metadata": {},
     "output_type": "execute_result"
    }
   ],
   "source": [
    "from sklearn.decomposition import LatentDirichletAllocation\n",
    "LDA = LatentDirichletAllocation(n_components=7,random_state=42)\n",
    "LDA.fit(dtm)"
   ]
  },
  {
   "cell_type": "code",
   "execution_count": 45,
   "id": "fddf700a",
   "metadata": {},
   "outputs": [],
   "source": [
    "vocab = cv.get_feature_names_out()"
   ]
  },
  {
   "cell_type": "markdown",
   "id": "09594f65",
   "metadata": {},
   "source": [
    "### Showing Stored Words:"
   ]
  },
  {
   "cell_type": "code",
   "execution_count": 151,
   "id": "b4660841",
   "metadata": {},
   "outputs": [
    {
     "name": "stdout",
     "output_type": "stream",
     "text": [
      "health\n",
      "انا\n",
      "3d\n",
      "ease\n",
      "examples\n",
      "تحياتي\n",
      "كلاس\n",
      "فهي\n",
      "based\n",
      "يسر\n"
     ]
    }
   ],
   "source": [
    "for i in range(10):\n",
    "    random_word_id = random.randint(0,1954)\n",
    "    print(vocab[random_word_id])"
   ]
  },
  {
   "cell_type": "code",
   "execution_count": 152,
   "id": "c58b8b61",
   "metadata": {},
   "outputs": [
    {
     "name": "stdout",
     "output_type": "stream",
     "text": [
      "تعرف\n",
      "uncomfortable\n",
      "اثناء\n",
      "معها\n",
      "تعلمت\n",
      "نو\n",
      "errors\n",
      "عدد\n",
      "recommendation\n",
      "تعلمت\n"
     ]
    }
   ],
   "source": [
    "for i in range(10):\n",
    "    random_word_id = random.randint(0,1954)\n",
    "    print(vocab[random_word_id])"
   ]
  },
  {
   "cell_type": "markdown",
   "id": "67d88639",
   "metadata": {},
   "source": [
    "### Showing top words per topic"
   ]
  },
  {
   "cell_type": "code",
   "execution_count": 49,
   "id": "7d99b45e",
   "metadata": {},
   "outputs": [
    {
     "data": {
      "text/plain": [
       "7"
      ]
     },
     "execution_count": 49,
     "metadata": {},
     "output_type": "execute_result"
    }
   ],
   "source": [
    "len(LDA.components_)"
   ]
  },
  {
   "cell_type": "code",
   "execution_count": 50,
   "id": "754c1d60",
   "metadata": {},
   "outputs": [
    {
     "data": {
      "text/plain": [
       "1954"
      ]
     },
     "execution_count": 50,
     "metadata": {},
     "output_type": "execute_result"
    }
   ],
   "source": [
    "len(LDA.components_[0])"
   ]
  },
  {
   "cell_type": "code",
   "execution_count": 51,
   "id": "9d9d7b2e",
   "metadata": {},
   "outputs": [],
   "source": [
    "single_topic = LDA.components_[0]"
   ]
  },
  {
   "cell_type": "code",
   "execution_count": 52,
   "id": "46520972",
   "metadata": {},
   "outputs": [
    {
     "data": {
      "text/plain": [
       "array([1087, 1911, 1536, ...,  341,  223,  168], dtype=int64)"
      ]
     },
     "execution_count": 52,
     "metadata": {},
     "output_type": "execute_result"
    }
   ],
   "source": [
    "# Returns the indices that would sort this array.\n",
    "single_topic.argsort()"
   ]
  },
  {
   "cell_type": "code",
   "execution_count": 53,
   "id": "26db0692",
   "metadata": {},
   "outputs": [
    {
     "data": {
      "text/plain": [
       "array([795, 128, 635,  37, 751, 215,  89, 341, 223, 168], dtype=int64)"
      ]
     },
     "execution_count": 53,
     "metadata": {},
     "output_type": "execute_result"
    }
   ],
   "source": [
    "# Top 10 words for this topic:\n",
    "single_topic.argsort()[-10:]"
   ]
  },
  {
   "cell_type": "code",
   "execution_count": 149,
   "id": "5532ff36",
   "metadata": {},
   "outputs": [
    {
     "name": "stdout",
     "output_type": "stream",
     "text": [
      "thanks\n",
      "class\n",
      "really\n",
      "amazing\n",
      "students\n",
      "doctor\n",
      "best\n",
      "great\n",
      "dr\n",
      "course\n"
     ]
    }
   ],
   "source": [
    "top_word_indices = single_topic.argsort()[-10:]\n",
    "for index in top_word_indices:\n",
    "    print(cv.get_feature_names_out()[index])"
   ]
  },
  {
   "cell_type": "markdown",
   "id": "0c9f0344",
   "metadata": {},
   "source": [
    "We will perform .transform() on our vectorized UserComments to attach a label number. But before, we view all the topics found."
   ]
  },
  {
   "cell_type": "code",
   "execution_count": 55,
   "id": "e5eb6a6a",
   "metadata": {},
   "outputs": [
    {
     "name": "stdout",
     "output_type": "stream",
     "text": [
      "THE TOP 15 WORDS FOR TOPIC #0\n",
      "['lot', 'courses', 'professor', 'clear', 'instructor', 'thanks', 'class', 'really', 'amazing', 'students', 'doctor', 'best', 'great', 'dr', 'course']\n",
      "\n",
      "\n",
      "THE TOP 15 WORDS FOR TOPIC #1\n",
      "['الوسائل', 'survey', 'par', 'hello', 'shahad', 'thankyou', 'لاشي', 'noooo', 'بشده', 'اوافق', 'kk', 'thankz', 'nope', 'strongly', 'disagree']\n",
      "\n",
      "\n",
      "THE TOP 15 WORDS FOR TOPIC #2\n",
      "['ممتاز', 'افضل', 'بشكل', 'دكتور', 'الطالب', 'ان', 'perfect', 'المساق', 'جدا', 'كل', 'الدكتور', 'المادة', 'على', 'من', 'في']\n",
      "\n",
      "\n",
      "THE TOP 15 WORDS FOR TOPIC #3\n",
      "['كلا', 'suggestion', 'lessons', 'dr', 'توجد', 'الماده', 'does', 'لايوجد', 'understand', 'recommendations', 'thank', 'يوجد', 'شكرا', 'good', 'لا']\n",
      "\n",
      "\n",
      "THE TOP 15 WORDS FOR TOPIC #4\n",
      "['going', 'fine', 'right', 'prepare', 'prior', 'far', 'consumed', 'showing', 'modern', 'number', 'statements', 'survey', 'nth', 'strongly', 'agree']\n",
      "\n",
      "\n",
      "THE TOP 15 WORDS FOR TOPIC #5\n",
      "['queries', 'hi', 'felt', 'arafat', 'evaluation', 'international', 'لمحاضر', 'والازدهار', 'الامتنان', 'nul', 'professional', 'barely', 'نو', 'na', 'neutral']\n",
      "\n",
      "\n",
      "THE TOP 15 WORDS FOR TOPIC #6\n",
      "['make', 'understand', 'challenging', 'used', 'explanation', 'recommendation', 'bad', 'extremely', 'examples', 'ms', 'non', 'faculty', 'aue', 'student', 'comment']\n",
      "\n",
      "\n"
     ]
    }
   ],
   "source": [
    "for index,topic in enumerate(LDA.components_):\n",
    "    print(f'THE TOP 15 WORDS FOR TOPIC #{index}')\n",
    "    print([cv.get_feature_names_out()[i] for i in topic.argsort()[-15:]])\n",
    "    print('\\n')"
   ]
  },
  {
   "cell_type": "markdown",
   "id": "fdeb61fa",
   "metadata": {},
   "source": [
    "### Attaching Discovered Topic Labels to Original Articles"
   ]
  },
  {
   "cell_type": "code",
   "execution_count": 56,
   "id": "8a7e4057",
   "metadata": {},
   "outputs": [],
   "source": [
    "topic_results = LDA.transform(dtm)\n",
    "df['Topic'] = topic_results.argmax(axis=1)"
   ]
  },
  {
   "cell_type": "code",
   "execution_count": 67,
   "id": "a157557d",
   "metadata": {},
   "outputs": [
    {
     "data": {
      "text/html": [
       "<div>\n",
       "<style scoped>\n",
       "    .dataframe tbody tr th:only-of-type {\n",
       "        vertical-align: middle;\n",
       "    }\n",
       "\n",
       "    .dataframe tbody tr th {\n",
       "        vertical-align: top;\n",
       "    }\n",
       "\n",
       "    .dataframe thead th {\n",
       "        text-align: right;\n",
       "    }\n",
       "</style>\n",
       "<table border=\"1\" class=\"dataframe\">\n",
       "  <thead>\n",
       "    <tr style=\"text-align: right;\">\n",
       "      <th></th>\n",
       "      <th>ParticipantResponse</th>\n",
       "      <th>sentiment_score</th>\n",
       "      <th>Topic</th>\n",
       "    </tr>\n",
       "  </thead>\n",
       "  <tbody>\n",
       "    <tr>\n",
       "      <th>2783</th>\n",
       "      <td>Nothing but a good doctor who explains the cou...</td>\n",
       "      <td>-0.75</td>\n",
       "      <td>0</td>\n",
       "    </tr>\n",
       "    <tr>\n",
       "      <th>2800</th>\n",
       "      <td>i wish that the doctor do more than just readi...</td>\n",
       "      <td>0.68</td>\n",
       "      <td>0</td>\n",
       "    </tr>\n",
       "    <tr>\n",
       "      <th>8489</th>\n",
       "      <td>Amazing doctor</td>\n",
       "      <td>0.59</td>\n",
       "      <td>0</td>\n",
       "    </tr>\n",
       "    <tr>\n",
       "      <th>16656</th>\n",
       "      <td>I really liked the course sooo much and doctor...</td>\n",
       "      <td>0.91</td>\n",
       "      <td>0</td>\n",
       "    </tr>\n",
       "    <tr>\n",
       "      <th>18186</th>\n",
       "      <td>I believe the recommendations and suggestions ...</td>\n",
       "      <td>0.96</td>\n",
       "      <td>0</td>\n",
       "    </tr>\n",
       "    <tr>\n",
       "      <th>...</th>\n",
       "      <td>...</td>\n",
       "      <td>...</td>\n",
       "      <td>...</td>\n",
       "    </tr>\n",
       "    <tr>\n",
       "      <th>176820</th>\n",
       "      <td>the kindest doctor</td>\n",
       "      <td>0.00</td>\n",
       "      <td>0</td>\n",
       "    </tr>\n",
       "    <tr>\n",
       "      <th>176911</th>\n",
       "      <td>best doctor</td>\n",
       "      <td>0.64</td>\n",
       "      <td>0</td>\n",
       "    </tr>\n",
       "    <tr>\n",
       "      <th>178312</th>\n",
       "      <td>The best doctor</td>\n",
       "      <td>0.64</td>\n",
       "      <td>0</td>\n",
       "    </tr>\n",
       "    <tr>\n",
       "      <th>178415</th>\n",
       "      <td>The doctor have a vary uniq way to make me und...</td>\n",
       "      <td>0.44</td>\n",
       "      <td>0</td>\n",
       "    </tr>\n",
       "    <tr>\n",
       "      <th>180322</th>\n",
       "      <td>Clear and organized course with the doctor.</td>\n",
       "      <td>0.38</td>\n",
       "      <td>0</td>\n",
       "    </tr>\n",
       "  </tbody>\n",
       "</table>\n",
       "<p>98 rows × 3 columns</p>\n",
       "</div>"
      ],
      "text/plain": [
       "                                      ParticipantResponse  sentiment_score  \\\n",
       "2783    Nothing but a good doctor who explains the cou...            -0.75   \n",
       "2800    i wish that the doctor do more than just readi...             0.68   \n",
       "8489                                       Amazing doctor             0.59   \n",
       "16656   I really liked the course sooo much and doctor...             0.91   \n",
       "18186   I believe the recommendations and suggestions ...             0.96   \n",
       "...                                                   ...              ...   \n",
       "176820                                 the kindest doctor             0.00   \n",
       "176911                                        best doctor             0.64   \n",
       "178312                                    The best doctor             0.64   \n",
       "178415  The doctor have a vary uniq way to make me und...             0.44   \n",
       "180322        Clear and organized course with the doctor.             0.38   \n",
       "\n",
       "        Topic  \n",
       "2783        0  \n",
       "2800        0  \n",
       "8489        0  \n",
       "16656       0  \n",
       "18186       0  \n",
       "...       ...  \n",
       "176820      0  \n",
       "176911      0  \n",
       "178312      0  \n",
       "178415      0  \n",
       "180322      0  \n",
       "\n",
       "[98 rows x 3 columns]"
      ]
     },
     "execution_count": 67,
     "metadata": {},
     "output_type": "execute_result"
    }
   ],
   "source": [
    "df.loc[df['ParticipantResponse'].str.contains(\"doctor\"), ['ParticipantResponse', 'sentiment_score', 'Topic']]"
   ]
  },
  {
   "cell_type": "code",
   "execution_count": 148,
   "id": "13e83532",
   "metadata": {
    "scrolled": true
   },
   "outputs": [
    {
     "data": {
      "text/html": [
       "<div>\n",
       "<style scoped>\n",
       "    .dataframe tbody tr th:only-of-type {\n",
       "        vertical-align: middle;\n",
       "    }\n",
       "\n",
       "    .dataframe tbody tr th {\n",
       "        vertical-align: top;\n",
       "    }\n",
       "\n",
       "    .dataframe thead th {\n",
       "        text-align: right;\n",
       "    }\n",
       "</style>\n",
       "<table border=\"1\" class=\"dataframe\">\n",
       "  <thead>\n",
       "    <tr style=\"text-align: right;\">\n",
       "      <th></th>\n",
       "      <th>ParticipantResponse</th>\n",
       "      <th>sentiment_score</th>\n",
       "      <th>Topic</th>\n",
       "    </tr>\n",
       "  </thead>\n",
       "  <tbody>\n",
       "    <tr>\n",
       "      <th>930</th>\n",
       "      <td>no suggestions</td>\n",
       "      <td>0.00</td>\n",
       "      <td>0</td>\n",
       "    </tr>\n",
       "    <tr>\n",
       "      <th>2405</th>\n",
       "      <td>no suggestions</td>\n",
       "      <td>0.00</td>\n",
       "      <td>0</td>\n",
       "    </tr>\n",
       "    <tr>\n",
       "      <th>3440</th>\n",
       "      <td>The suggestion is to be having in-class work</td>\n",
       "      <td>0.00</td>\n",
       "      <td>0</td>\n",
       "    </tr>\n",
       "    <tr>\n",
       "      <th>7839</th>\n",
       "      <td>no suggestions</td>\n",
       "      <td>0.00</td>\n",
       "      <td>0</td>\n",
       "    </tr>\n",
       "    <tr>\n",
       "      <th>18186</th>\n",
       "      <td>I believe the recommendations and suggestions ...</td>\n",
       "      <td>0.96</td>\n",
       "      <td>0</td>\n",
       "    </tr>\n",
       "    <tr>\n",
       "      <th>19973</th>\n",
       "      <td>No suggestions</td>\n",
       "      <td>0.00</td>\n",
       "      <td>0</td>\n",
       "    </tr>\n",
       "    <tr>\n",
       "      <th>21891</th>\n",
       "      <td>No recommendations or suggestions. Everything ...</td>\n",
       "      <td>0.27</td>\n",
       "      <td>0</td>\n",
       "    </tr>\n",
       "    <tr>\n",
       "      <th>33998</th>\n",
       "      <td>I don't have any recommendations or suggestions.</td>\n",
       "      <td>0.00</td>\n",
       "      <td>0</td>\n",
       "    </tr>\n",
       "    <tr>\n",
       "      <th>35533</th>\n",
       "      <td>No suggestions.</td>\n",
       "      <td>0.00</td>\n",
       "      <td>0</td>\n",
       "    </tr>\n",
       "    <tr>\n",
       "      <th>36419</th>\n",
       "      <td>I don't have any suggestions due to the doctor...</td>\n",
       "      <td>0.51</td>\n",
       "      <td>0</td>\n",
       "    </tr>\n",
       "    <tr>\n",
       "      <th>40153</th>\n",
       "      <td>no suggestion</td>\n",
       "      <td>0.00</td>\n",
       "      <td>3</td>\n",
       "    </tr>\n",
       "    <tr>\n",
       "      <th>43676</th>\n",
       "      <td>No suggestions</td>\n",
       "      <td>0.00</td>\n",
       "      <td>0</td>\n",
       "    </tr>\n",
       "    <tr>\n",
       "      <th>45148</th>\n",
       "      <td>No suggestions</td>\n",
       "      <td>0.00</td>\n",
       "      <td>0</td>\n",
       "    </tr>\n",
       "    <tr>\n",
       "      <th>52626</th>\n",
       "      <td>no suggestion</td>\n",
       "      <td>0.00</td>\n",
       "      <td>3</td>\n",
       "    </tr>\n",
       "    <tr>\n",
       "      <th>53419</th>\n",
       "      <td>no suggestion</td>\n",
       "      <td>0.00</td>\n",
       "      <td>3</td>\n",
       "    </tr>\n",
       "    <tr>\n",
       "      <th>56677</th>\n",
       "      <td>no suggestions</td>\n",
       "      <td>0.00</td>\n",
       "      <td>0</td>\n",
       "    </tr>\n",
       "    <tr>\n",
       "      <th>61246</th>\n",
       "      <td>No suggestions</td>\n",
       "      <td>0.00</td>\n",
       "      <td>0</td>\n",
       "    </tr>\n",
       "    <tr>\n",
       "      <th>69603</th>\n",
       "      <td>no suggestion</td>\n",
       "      <td>0.00</td>\n",
       "      <td>3</td>\n",
       "    </tr>\n",
       "    <tr>\n",
       "      <th>75838</th>\n",
       "      <td>I felt that the course is up to par and I have...</td>\n",
       "      <td>-0.30</td>\n",
       "      <td>0</td>\n",
       "    </tr>\n",
       "    <tr>\n",
       "      <th>78239</th>\n",
       "      <td>no recommendation or suggestion,m the course w...</td>\n",
       "      <td>0.64</td>\n",
       "      <td>0</td>\n",
       "    </tr>\n",
       "    <tr>\n",
       "      <th>93573</th>\n",
       "      <td>No suggestions</td>\n",
       "      <td>0.00</td>\n",
       "      <td>0</td>\n",
       "    </tr>\n",
       "    <tr>\n",
       "      <th>120828</th>\n",
       "      <td>no suggestions.</td>\n",
       "      <td>0.00</td>\n",
       "      <td>0</td>\n",
       "    </tr>\n",
       "    <tr>\n",
       "      <th>121574</th>\n",
       "      <td>no suggestions.</td>\n",
       "      <td>0.00</td>\n",
       "      <td>0</td>\n",
       "    </tr>\n",
       "    <tr>\n",
       "      <th>126680</th>\n",
       "      <td>no suggestions</td>\n",
       "      <td>0.00</td>\n",
       "      <td>0</td>\n",
       "    </tr>\n",
       "    <tr>\n",
       "      <th>132338</th>\n",
       "      <td>No suggestions or recommendations required. Dr...</td>\n",
       "      <td>0.87</td>\n",
       "      <td>0</td>\n",
       "    </tr>\n",
       "    <tr>\n",
       "      <th>137094</th>\n",
       "      <td>No suggestion</td>\n",
       "      <td>0.00</td>\n",
       "      <td>3</td>\n",
       "    </tr>\n",
       "    <tr>\n",
       "      <th>139425</th>\n",
       "      <td>no suggestion</td>\n",
       "      <td>0.00</td>\n",
       "      <td>3</td>\n",
       "    </tr>\n",
       "    <tr>\n",
       "      <th>140491</th>\n",
       "      <td>I never think that this course and Dr. Samer w...</td>\n",
       "      <td>0.94</td>\n",
       "      <td>0</td>\n",
       "    </tr>\n",
       "    <tr>\n",
       "      <th>141617</th>\n",
       "      <td>no suggestion</td>\n",
       "      <td>0.00</td>\n",
       "      <td>3</td>\n",
       "    </tr>\n",
       "    <tr>\n",
       "      <th>143315</th>\n",
       "      <td>No suggestion</td>\n",
       "      <td>0.00</td>\n",
       "      <td>3</td>\n",
       "    </tr>\n",
       "    <tr>\n",
       "      <th>144050</th>\n",
       "      <td>no ssuggestion</td>\n",
       "      <td>0.00</td>\n",
       "      <td>0</td>\n",
       "    </tr>\n",
       "    <tr>\n",
       "      <th>144807</th>\n",
       "      <td>Dr Samer is covering every aspect of this cour...</td>\n",
       "      <td>-0.36</td>\n",
       "      <td>0</td>\n",
       "    </tr>\n",
       "    <tr>\n",
       "      <th>144858</th>\n",
       "      <td>no suggestion</td>\n",
       "      <td>0.00</td>\n",
       "      <td>3</td>\n",
       "    </tr>\n",
       "    <tr>\n",
       "      <th>145809</th>\n",
       "      <td>no suggestions are present</td>\n",
       "      <td>0.00</td>\n",
       "      <td>3</td>\n",
       "    </tr>\n",
       "    <tr>\n",
       "      <th>145990</th>\n",
       "      <td>No suggestion</td>\n",
       "      <td>0.00</td>\n",
       "      <td>3</td>\n",
       "    </tr>\n",
       "    <tr>\n",
       "      <th>146497</th>\n",
       "      <td>no suggestion</td>\n",
       "      <td>0.00</td>\n",
       "      <td>3</td>\n",
       "    </tr>\n",
       "    <tr>\n",
       "      <th>147296</th>\n",
       "      <td>No suggestion</td>\n",
       "      <td>0.00</td>\n",
       "      <td>3</td>\n",
       "    </tr>\n",
       "    <tr>\n",
       "      <th>147778</th>\n",
       "      <td>No suggestion</td>\n",
       "      <td>0.00</td>\n",
       "      <td>3</td>\n",
       "    </tr>\n",
       "    <tr>\n",
       "      <th>148302</th>\n",
       "      <td>I do not have any suggestions, the course was ...</td>\n",
       "      <td>0.98</td>\n",
       "      <td>0</td>\n",
       "    </tr>\n",
       "    <tr>\n",
       "      <th>150033</th>\n",
       "      <td>no suggestions</td>\n",
       "      <td>0.00</td>\n",
       "      <td>0</td>\n",
       "    </tr>\n",
       "    <tr>\n",
       "      <th>152650</th>\n",
       "      <td>No suggestions required. Its an amazing course.</td>\n",
       "      <td>0.59</td>\n",
       "      <td>0</td>\n",
       "    </tr>\n",
       "    <tr>\n",
       "      <th>152921</th>\n",
       "      <td>No suggestions. All great from my side.</td>\n",
       "      <td>0.62</td>\n",
       "      <td>0</td>\n",
       "    </tr>\n",
       "    <tr>\n",
       "      <th>153214</th>\n",
       "      <td>No suggestions required</td>\n",
       "      <td>0.00</td>\n",
       "      <td>0</td>\n",
       "    </tr>\n",
       "    <tr>\n",
       "      <th>161749</th>\n",
       "      <td>no suggestions.</td>\n",
       "      <td>0.00</td>\n",
       "      <td>0</td>\n",
       "    </tr>\n",
       "    <tr>\n",
       "      <th>163751</th>\n",
       "      <td>I have no suggestions just that I really recom...</td>\n",
       "      <td>0.85</td>\n",
       "      <td>0</td>\n",
       "    </tr>\n",
       "    <tr>\n",
       "      <th>180948</th>\n",
       "      <td>no suggestion</td>\n",
       "      <td>0.00</td>\n",
       "      <td>3</td>\n",
       "    </tr>\n",
       "  </tbody>\n",
       "</table>\n",
       "</div>"
      ],
      "text/plain": [
       "                                      ParticipantResponse  sentiment_score  \\\n",
       "930                                        no suggestions             0.00   \n",
       "2405                                       no suggestions             0.00   \n",
       "3440         The suggestion is to be having in-class work             0.00   \n",
       "7839                                       no suggestions             0.00   \n",
       "18186   I believe the recommendations and suggestions ...             0.96   \n",
       "19973                                      No suggestions             0.00   \n",
       "21891   No recommendations or suggestions. Everything ...             0.27   \n",
       "33998    I don't have any recommendations or suggestions.             0.00   \n",
       "35533                                     No suggestions.             0.00   \n",
       "36419   I don't have any suggestions due to the doctor...             0.51   \n",
       "40153                                       no suggestion             0.00   \n",
       "43676                                      No suggestions             0.00   \n",
       "45148                                      No suggestions             0.00   \n",
       "52626                                       no suggestion             0.00   \n",
       "53419                                       no suggestion             0.00   \n",
       "56677                                      no suggestions             0.00   \n",
       "61246                                      No suggestions             0.00   \n",
       "69603                                       no suggestion             0.00   \n",
       "75838   I felt that the course is up to par and I have...            -0.30   \n",
       "78239   no recommendation or suggestion,m the course w...             0.64   \n",
       "93573                                      No suggestions             0.00   \n",
       "120828                                    no suggestions.             0.00   \n",
       "121574                                    no suggestions.             0.00   \n",
       "126680                                     no suggestions             0.00   \n",
       "132338  No suggestions or recommendations required. Dr...             0.87   \n",
       "137094                                      No suggestion             0.00   \n",
       "139425                                      no suggestion             0.00   \n",
       "140491  I never think that this course and Dr. Samer w...             0.94   \n",
       "141617                                      no suggestion             0.00   \n",
       "143315                                      No suggestion             0.00   \n",
       "144050                                     no ssuggestion             0.00   \n",
       "144807  Dr Samer is covering every aspect of this cour...            -0.36   \n",
       "144858                                      no suggestion             0.00   \n",
       "145809                         no suggestions are present             0.00   \n",
       "145990                                      No suggestion             0.00   \n",
       "146497                                      no suggestion             0.00   \n",
       "147296                                      No suggestion             0.00   \n",
       "147778                                      No suggestion             0.00   \n",
       "148302  I do not have any suggestions, the course was ...             0.98   \n",
       "150033                                     no suggestions             0.00   \n",
       "152650    No suggestions required. Its an amazing course.             0.59   \n",
       "152921            No suggestions. All great from my side.             0.62   \n",
       "153214                            No suggestions required             0.00   \n",
       "161749                                    no suggestions.             0.00   \n",
       "163751  I have no suggestions just that I really recom...             0.85   \n",
       "180948                                      no suggestion             0.00   \n",
       "\n",
       "        Topic  \n",
       "930         0  \n",
       "2405        0  \n",
       "3440        0  \n",
       "7839        0  \n",
       "18186       0  \n",
       "19973       0  \n",
       "21891       0  \n",
       "33998       0  \n",
       "35533       0  \n",
       "36419       0  \n",
       "40153       3  \n",
       "43676       0  \n",
       "45148       0  \n",
       "52626       3  \n",
       "53419       3  \n",
       "56677       0  \n",
       "61246       0  \n",
       "69603       3  \n",
       "75838       0  \n",
       "78239       0  \n",
       "93573       0  \n",
       "120828      0  \n",
       "121574      0  \n",
       "126680      0  \n",
       "132338      0  \n",
       "137094      3  \n",
       "139425      3  \n",
       "140491      0  \n",
       "141617      3  \n",
       "143315      3  \n",
       "144050      0  \n",
       "144807      0  \n",
       "144858      3  \n",
       "145809      3  \n",
       "145990      3  \n",
       "146497      3  \n",
       "147296      3  \n",
       "147778      3  \n",
       "148302      0  \n",
       "150033      0  \n",
       "152650      0  \n",
       "152921      0  \n",
       "153214      0  \n",
       "161749      0  \n",
       "163751      0  \n",
       "180948      3  "
      ]
     },
     "execution_count": 148,
     "metadata": {},
     "output_type": "execute_result"
    }
   ],
   "source": [
    "df.loc[(df['ParticipantResponse'].str.contains(\"suggestion\")), ['ParticipantResponse', 'sentiment_score', 'Topic']]"
   ]
  }
 ],
 "metadata": {
  "kernelspec": {
   "display_name": "Python 3 (ipykernel)",
   "language": "python",
   "name": "python3"
  },
  "language_info": {
   "codemirror_mode": {
    "name": "ipython",
    "version": 3
   },
   "file_extension": ".py",
   "mimetype": "text/x-python",
   "name": "python",
   "nbconvert_exporter": "python",
   "pygments_lexer": "ipython3",
   "version": "3.11.4"
  }
 },
 "nbformat": 4,
 "nbformat_minor": 5
}
